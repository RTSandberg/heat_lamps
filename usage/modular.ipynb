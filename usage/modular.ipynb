{
 "cells": [
  {
   "cell_type": "code",
   "execution_count": 1,
   "metadata": {},
   "outputs": [],
   "source": [
    "import numpy as np\n",
    "from matplotlib import pyplot as plt\n",
    "import os\n",
    "from ipywidgets import *  # for interactive test plot\n",
    "import numba\n",
    "from numba import jit\n",
    "from numba import njit\n",
    "import time"
   ]
  },
  {
   "cell_type": "code",
   "execution_count": 2,
   "metadata": {},
   "outputs": [],
   "source": [
    "from scipy.interpolate import griddata"
   ]
  },
  {
   "cell_type": "code",
   "execution_count": 3,
   "metadata": {},
   "outputs": [],
   "source": [
    "\n",
    "from matplotlib.animation import FFMpegWriter\n",
    "import matplotlib.animation as manimation"
   ]
  },
  {
   "cell_type": "code",
   "execution_count": 4,
   "metadata": {},
   "outputs": [],
   "source": [
    "%matplotlib notebook"
   ]
  },
  {
   "cell_type": "code",
   "execution_count": 5,
   "metadata": {},
   "outputs": [],
   "source": [
    "import sys\n",
    "sys.path.append('../heat_lamps')"
   ]
  },
  {
   "cell_type": "code",
   "execution_count": 6,
   "metadata": {},
   "outputs": [
    {
     "ename": "ModuleNotFoundError",
     "evalue": "No module named 'warm_lpm5'",
     "output_type": "error",
     "traceback": [
      "\u001b[0;31m---------------------------------------------------------------------------\u001b[0m",
      "\u001b[0;31mModuleNotFoundError\u001b[0m                       Traceback (most recent call last)",
      "\u001b[0;32m<ipython-input-6-3f9c6297287e>\u001b[0m in \u001b[0;36m<module>\u001b[0;34m\u001b[0m\n\u001b[0;32m----> 1\u001b[0;31m \u001b[0;32mimport\u001b[0m \u001b[0mwarm_lpm5\u001b[0m\u001b[0;34m\u001b[0m\u001b[0;34m\u001b[0m\u001b[0m\n\u001b[0m\u001b[1;32m      2\u001b[0m \u001b[0;32mfrom\u001b[0m \u001b[0mwarm_lpm5\u001b[0m \u001b[0;32mimport\u001b[0m \u001b[0mpanels\u001b[0m\u001b[0;34m\u001b[0m\u001b[0;34m\u001b[0m\u001b[0m\n\u001b[1;32m      3\u001b[0m \u001b[0;32mfrom\u001b[0m \u001b[0mwarm_lpm5\u001b[0m \u001b[0;32mimport\u001b[0m \u001b[0mfield_functions\u001b[0m \u001b[0;32mas\u001b[0m \u001b[0mfield\u001b[0m\u001b[0;34m\u001b[0m\u001b[0;34m\u001b[0m\u001b[0m\n\u001b[1;32m      4\u001b[0m \u001b[0;32mfrom\u001b[0m \u001b[0mwarm_lpm5\u001b[0m \u001b[0;32mimport\u001b[0m \u001b[0mtime_step_functions\u001b[0m \u001b[0;32mas\u001b[0m \u001b[0mstep\u001b[0m\u001b[0;34m\u001b[0m\u001b[0;34m\u001b[0m\u001b[0m\n",
      "\u001b[0;31mModuleNotFoundError\u001b[0m: No module named 'warm_lpm5'"
     ]
    }
   ],
   "source": [
    "import \n",
    "from warm_lpm5 import panels\n",
    "from warm_lpm5 import field_functions as field\n",
    "from warm_lpm5 import time_step_functions as step"
   ]
  },
  {
   "cell_type": "code",
   "execution_count": 54,
   "metadata": {},
   "outputs": [],
   "source": [
    "from importlib import reload\n",
    "\n",
    "\n",
    "panels = reload(warm_lpm5.panels)\n",
    "field = reload(warm_lpm5.field_functions)\n",
    "step = reload(warm_lpm5.time_step_functions)"
   ]
  },
  {
   "cell_type": "code",
   "execution_count": 59,
   "metadata": {},
   "outputs": [],
   "source": [
    "\n",
    "@njit\n",
    "def f0(x,v,L,vth, amp):\n",
    "    \"\"\"\n",
    "    \"\"\"\n",
    "    return 1./ np.sqrt(2.*np.pi) /vth * np.exp(-v**2/2./vth**2) * (1+amp *np.cos(2*np.pi/L*x))\n",
    "\n",
    "@njit\n",
    "def f_M(x,v,L,vth):\n",
    "    \"\"\"\n",
    "    \"\"\"\n",
    "    return 1./ np.sqrt(2.*np.pi) /vth * np.exp(-v**2/2./vth**2)\n",
    "\n",
    "\n",
    "L = 2 * 2*np.pi\n",
    "k = 2*np.pi / L\n",
    "vth = 1.\n",
    "amp = .01\n",
    "q = -1.\n",
    "m = 1.\n",
    "qm = q/m\n",
    "xlim = (0,L)\n",
    "npanels_x = 128\n",
    "vlim = (-5,5)\n",
    "npanels_v = 128\n",
    "npanels = npanels_x * npanels_v\n",
    "\n",
    "Elim = (-1.5*amp/k, 1.5*amp/k)\n",
    "\n",
    "delta = 0.\n",
    "interpolation = 'cubic'\n",
    "do_remesh = False\n",
    "remesh_freq = 0\n",
    "if do_remesh:\n",
    "    remesh_string = ''\n",
    "else:\n",
    "    remesh_string = 'no'\n",
    "\n",
    "dt = .01\n",
    "num_steps = 4000\n",
    "tf = dt * num_steps\n",
    "\n",
    "\n",
    "movie_freq = 5\n",
    "diag_freq = 1\n",
    "dump_freq = min(movie_freq,diag_freq)\n",
    "\n",
    "\n",
    "sim_group = 'delf_LD_noremesh_%.03f'%delta\n",
    "sim_name = 'LD_remeshing_%i_steps_interp_%s_linear_standardcase_'%(remesh_freq,interpolation) +        'L_%.03f_vth_%.03f_amp_%.03f_'%(L,vth,amp) +        'npanels_x_%i_npanels_v_%i_'%(npanels_x,npanels_v) +        'vmax_%.03f_delta_%.03f_'%(vlim[1],delta) +        'dt_%.03f_num_steps_%i_'%(dt,num_steps) +        'tf_%.03f'%(tf)\n",
    "sim_title = 'LD with %s re-meshing every %i steps, interpolation: %s,\\n'%(remesh_string, remesh_freq,interpolation) +        'L %.03f, vth %.03f, amp %.03f,\\n'%(L,vth,amp) +        'npanels_x %i, npanels_v %i, '%(npanels_x,npanels_v) +        'vmax %.03f, delta %.03f,\\n'%(vlim[1],delta) +        'dt %.03f, nt %i, '%(dt,num_steps) +        'tf %.03f'%(tf)\n",
    "\n",
    "simulations_dir = 'simulations/'\n",
    "sim_group_dir = simulations_dir + sim_group + '/'\n",
    "sim_dir = sim_group_dir + sim_name + '/'\n",
    "params_file = sim_dir + 'sim_params.txt'\n",
    "\n",
    "if not os.path.exists(simulations_dir):\n",
    "    os.makedirs(simulations_dir)\n",
    "if not os.path.exists(sim_group_dir):\n",
    "    os.makedirs(sim_group_dir)\n",
    "if not os.path.exists(sim_dir):\n",
    "    os.makedirs(sim_dir)\n",
    "\n",
    "species_data = panels.Panels()\n",
    "species_data.L = L\n",
    "species_data.vth = vth\n",
    "species_data.q = q\n",
    "species_data.m = m\n",
    "species_data.qm = qm\n",
    "species_data.set_xs_vs(npanels_x,xlim,npanels_v,vlim)\n",
    "species_data.set_panels()\n",
    "species_data.set_f0_weights(lambda x,v: f0(x,v,L,vth,amp))\n",
    "if species_data.npanels <= 3000:\n",
    "    species_data.field_obj = field.exact_field(delta)\n",
    "else:\n",
    "    species_data.field_obj = field.sort_field(delta)\n",
    "\n",
    "panels.Panels.initialize = step.initialize_leapfrog\n",
    "panels.Panels.update = step.update_leapfrog\n",
    "panels.Panels.diag_dump = step.diag_dump_leapfrog\n",
    "\n",
    "species_data.setup_diagnostic_dir(sim_dir)\n",
    "\n",
    "# write cell contents to file\n",
    "with open(params_file,'w') as cell_file:\n",
    "    cell_file.write(In[-1])"
   ]
  },
  {
   "cell_type": "code",
   "execution_count": null,
   "metadata": {},
   "outputs": [],
   "source": [
    "%%time\n",
    "species_data.initialize(dt)\n",
    "\n",
    "%run -i 'run_sim.py'\n",
    "%run -i 'plot_stuff.py'"
   ]
  },
  {
   "cell_type": "markdown",
   "metadata": {},
   "source": [
    "1/11/2019\n",
    "Trying to modularize this code and having problems\n",
    "Problem\n",
    "1. Can't make any ide work properly\n",
    "\n",
    "Calling module from notebook\n",
    "* Don't know how to call Python script properly\n",
    "* Panel movie doesn't work right"
   ]
  },
  {
   "cell_type": "markdown",
   "metadata": {},
   "source": [
    "# for running batches:\n",
    "batch = one group, one form of simulation\n",
    "\n",
    "batch script should\n",
    "* create batch directory\n",
    "* have paramater set\n",
    "* for each combination of parameters\n",
    "    * generate simulation directory\n",
    "    * generate a parameter record\n",
    "    * run a simulation corresponding to that parameter combination\n",
    "    * generate log file for that run\n",
    "\n",
    "\n",
    "sim dir\n",
    "* parameter_file\n",
    "* run log\n",
    "    * version of code run\n",
    "    * success of run\n",
    "* output_directory\n",
    "* analysis_directory"
   ]
  }
 ],
 "metadata": {
  "kernelspec": {
   "display_name": "Python 3",
   "language": "python",
   "name": "python3"
  },
  "language_info": {
   "codemirror_mode": {
    "name": "ipython",
    "version": 3
   },
   "file_extension": ".py",
   "mimetype": "text/x-python",
   "name": "python",
   "nbconvert_exporter": "python",
   "pygments_lexer": "ipython3",
   "version": "3.7.4"
  }
 },
 "nbformat": 4,
 "nbformat_minor": 2
}
